{
 "cells": [
  {
   "cell_type": "markdown",
   "metadata": {},
   "source": [
    "# Pylos : an extension Object System for Python\n",
    "\n",
    "> (C) 2016 F. Peschanski under the MIT License\n",
    "\n",
    "`Pylos` is a simple (one file!) yet useful extension of the Python object system to integrate **generic methods** as in CLOS (the Common Lisp Object System).\n",
    "\n",
    "This document is a *tutorial* motivating and showing the basic usage of `Pylos`.\n"
   ]
  },
  {
   "cell_type": "code",
   "execution_count": 1,
   "metadata": {
    "collapsed": true
   },
   "outputs": [],
   "source": [
    "import sys\n",
    "sys.path.append(\"../src\")  # point to where the pylos.py file is"
   ]
  },
  {
   "cell_type": "markdown",
   "metadata": {},
   "source": [
    "## The (untyped) expression problem illustrated\n",
    "\n",
    "If like me you have an experience in object-oriented programming (classical, imperative obviously since we are talking in and about Python) as well as in functional programming (in a language like Lisp, Ocaml, Haskell), you probably noticed a tension between :\n",
    "\n",
    "  - adding new data-structures\n",
    "  \n",
    "  - addning new operations working on these data-structures\n",
    "  \n",
    "This tension can be illustrated directly in Python, a language supporting both programming styles.\n",
    "\n",
    "Our case study is a slightly boring example that everyone understands: the *geometrical shapes*."
   ]
  },
  {
   "cell_type": "markdown",
   "metadata": {},
   "source": [
    "### The object-oriented programming style\n",
    "\n",
    "A geometrical shapee in the OO style is an abstract class, e.g. as follows:"
   ]
  },
  {
   "cell_type": "code",
   "execution_count": 5,
   "metadata": {
    "collapsed": true
   },
   "outputs": [],
   "source": [
    "class Shape:\n",
    "    def __init_(self):\n",
    "        pass\n",
    "    \n",
    "    def perimeter(self):\n",
    "        raise NotImplementedError()"
   ]
  },
  {
   "cell_type": "markdown",
   "metadata": {},
   "source": [
    "An example of a shape is a rectangle."
   ]
  },
  {
   "cell_type": "code",
   "execution_count": 26,
   "metadata": {
    "collapsed": false
   },
   "outputs": [],
   "source": [
    "class Rectangle(Shape):\n",
    "    def __init__(self, x, y, w, h):\n",
    "        self.x = x; self.y = y; self.w = w; self.h = h\n",
    "        \n",
    "    def perimeter(self):\n",
    "        return 2 * (self.w + self.h)\n",
    "    \n",
    "    def __repr__(self):\n",
    "        return \"Rectangle(x={}, y={}, w={}, h={})\".format(self.x, self.y, self.w, self.h)"
   ]
  },
  {
   "cell_type": "markdown",
   "metadata": {},
   "source": [
    "Everything's straightforward and we can already \"play\" with rectangles."
   ]
  },
  {
   "cell_type": "code",
   "execution_count": 27,
   "metadata": {
    "collapsed": false
   },
   "outputs": [
    {
     "data": {
      "text/plain": [
       "Rectangle(x=0, y=0, w=3, h=2)"
      ]
     },
     "execution_count": 27,
     "metadata": {},
     "output_type": "execute_result"
    }
   ],
   "source": [
    "rect = Rectangle(0, 0, 3, 2)\n",
    "rect"
   ]
  },
  {
   "cell_type": "code",
   "execution_count": 28,
   "metadata": {
    "collapsed": false
   },
   "outputs": [
    {
     "data": {
      "text/plain": [
       "10"
      ]
     },
     "execution_count": 28,
     "metadata": {},
     "output_type": "execute_result"
    }
   ],
   "source": [
    "rect.perimeter()"
   ]
  },
  {
   "cell_type": "markdown",
   "metadata": {},
   "source": [
    "Adding a new kind of shape is very natural in the OO style."
   ]
  },
  {
   "cell_type": "code",
   "execution_count": 29,
   "metadata": {
    "collapsed": true
   },
   "outputs": [],
   "source": [
    "import math\n",
    "\n",
    "class Circle(Shape):\n",
    "    def __init__(self, x, y, r):\n",
    "        self.x = x; self.y = y; self.r = r\n",
    "        \n",
    "    def perimeter(self):        \n",
    "        return math.pi * 2 * self.r;\n",
    "    \n",
    "    def __repr__(self):\n",
    "        return \"Circle(x={}, y={}, r={})\".format(self.x, self.y, self.r)"
   ]
  },
  {
   "cell_type": "code",
   "execution_count": 30,
   "metadata": {
    "collapsed": false
   },
   "outputs": [
    {
     "data": {
      "text/plain": [
       "Circle(x=1, y=1, r=1)"
      ]
     },
     "execution_count": 30,
     "metadata": {},
     "output_type": "execute_result"
    }
   ],
   "source": [
    "circ = Circle(1, 1, 1)\n",
    "circ"
   ]
  },
  {
   "cell_type": "code",
   "execution_count": 31,
   "metadata": {
    "collapsed": false
   },
   "outputs": [
    {
     "data": {
      "text/plain": [
       "6.283185307179586"
      ]
     },
     "execution_count": 31,
     "metadata": {},
     "output_type": "execute_result"
    }
   ],
   "source": [
    "circ.perimeter()"
   ]
  },
  {
   "cell_type": "markdown",
   "metadata": {},
   "source": [
    "The problem arises when one wants to add a new *operation* to the shapes. For example suppose we want to add a translation for shapes.  There's basically only one way to \"solve\" this problem: add the operation to the base class and *all* it descendants!"
   ]
  },
  {
   "cell_type": "code",
   "execution_count": 34,
   "metadata": {
    "collapsed": false
   },
   "outputs": [],
   "source": [
    "def Shape_translate(self, tx, ty):\n",
    "    raise NotImplementedError()\n",
    "Shape.translate = Shape_translate"
   ]
  },
  {
   "cell_type": "code",
   "execution_count": 35,
   "metadata": {
    "collapsed": true
   },
   "outputs": [],
   "source": [
    "def Point_translate(self, tx, ty):\n",
    "    self.x += tx\n",
    "    self.y += ty\n",
    "Rectangle.translate = Point_translate"
   ]
  },
  {
   "cell_type": "code",
   "execution_count": 42,
   "metadata": {
    "collapsed": true
   },
   "outputs": [],
   "source": [
    "Circle.translate = Point_translate"
   ]
  },
  {
   "cell_type": "code",
   "execution_count": 43,
   "metadata": {
    "collapsed": false
   },
   "outputs": [
    {
     "data": {
      "text/plain": [
       "Rectangle(x=2, y=2, w=3, h=2)"
      ]
     },
     "execution_count": 43,
     "metadata": {},
     "output_type": "execute_result"
    }
   ],
   "source": [
    "rect"
   ]
  },
  {
   "cell_type": "code",
   "execution_count": 44,
   "metadata": {
    "collapsed": true
   },
   "outputs": [],
   "source": [
    "rect.translate(2, 2)"
   ]
  },
  {
   "cell_type": "code",
   "execution_count": 45,
   "metadata": {
    "collapsed": false
   },
   "outputs": [
    {
     "data": {
      "text/plain": [
       "Rectangle(x=4, y=4, w=3, h=2)"
      ]
     },
     "execution_count": 45,
     "metadata": {},
     "output_type": "execute_result"
    }
   ],
   "source": [
    "rect"
   ]
  },
  {
   "cell_type": "code",
   "execution_count": 46,
   "metadata": {
    "collapsed": false
   },
   "outputs": [
    {
     "data": {
      "text/plain": [
       "Circle(x=1, y=1, r=1)"
      ]
     },
     "execution_count": 46,
     "metadata": {},
     "output_type": "execute_result"
    }
   ],
   "source": [
    "circ"
   ]
  },
  {
   "cell_type": "code",
   "execution_count": 47,
   "metadata": {
    "collapsed": false
   },
   "outputs": [],
   "source": [
    "circ.translate(-1, -1)"
   ]
  },
  {
   "cell_type": "code",
   "execution_count": 48,
   "metadata": {
    "collapsed": false
   },
   "outputs": [
    {
     "data": {
      "text/plain": [
       "Circle(x=0, y=0, r=1)"
      ]
     },
     "execution_count": 48,
     "metadata": {},
     "output_type": "execute_result"
    }
   ],
   "source": [
    "circ"
   ]
  },
  {
   "cell_type": "markdown",
   "metadata": {},
   "source": [
    "That's a lot work, and it is necessary to \"open up\" all the existing classes !"
   ]
  },
  {
   "cell_type": "markdown",
   "metadata": {},
   "source": [
    "### The functional way\n",
    "\n",
    "In the functional way, it is very easy to add new operations. Let's add a surface computation operation for example, but this time not as a method but as a function. This is clearly not the style by default in Python but it is available (which is a great thing !)."
   ]
  },
  {
   "cell_type": "code",
   "execution_count": 52,
   "metadata": {
    "collapsed": true
   },
   "outputs": [],
   "source": [
    "def surface_of_shape(shape):\n",
    "    if isinstance(shape, Rectangle):\n",
    "        return shape.w * shape.h\n",
    "    elif isinstance(shape, Circle):\n",
    "        return math.pi * shape.r * shape.r\n",
    "    else:\n",
    "        raise ValueError(\"Cannot compute surface of {}\".format(shape))"
   ]
  },
  {
   "cell_type": "code",
   "execution_count": 53,
   "metadata": {
    "collapsed": false
   },
   "outputs": [
    {
     "data": {
      "text/plain": [
       "6"
      ]
     },
     "execution_count": 53,
     "metadata": {},
     "output_type": "execute_result"
    }
   ],
   "source": [
    "surface_of_shape(rect)"
   ]
  },
  {
   "cell_type": "code",
   "execution_count": 54,
   "metadata": {
    "collapsed": false
   },
   "outputs": [
    {
     "data": {
      "text/plain": [
       "3.141592653589793"
      ]
     },
     "execution_count": 54,
     "metadata": {},
     "output_type": "execute_result"
    }
   ],
   "source": [
    "surface_of_shape(circ)"
   ]
  },
  {
   "cell_type": "markdown",
   "metadata": {},
   "source": [
    "This time, the real pain is when a new kind of shape must be added, which requires to change *all* the existing operations (those defined as functions)."
   ]
  },
  {
   "cell_type": "markdown",
   "metadata": {},
   "source": [
    "## A solution in Pylos\n",
    "\n",
    "There are many solutions to the (untyped) expression problem, which we will not enumerate. But there is at least on language in which the tension between adding structures vs. adding operations never occur: the *Common Lisp Object System* and of course `Pylos` that gets most of its inspiration from it.\n",
    "\n",
    "So let's first import the (single-file) `Pylos` module."
   ]
  },
  {
   "cell_type": "code",
   "execution_count": 55,
   "metadata": {
    "collapsed": true
   },
   "outputs": [],
   "source": [
    "from pylos import Generic, method"
   ]
  },
  {
   "cell_type": "markdown",
   "metadata": {},
   "source": [
    "The objectif is to *unify* the concepts of :\n",
    "\n",
    "  - *instance method* in the OO style\n",
    "  - and *function* in the functional style\n",
    "  \n",
    "For this is introduced the notion of a **generic method**  (a.k.a. generic function). A *generic method* is at the same time :\n",
    "\n",
    "  - a *method* because it involves a dispatch mechanism\n",
    "  \n",
    "  - a *function* because it is defined and is called at the top-level, without a notion of a *receiver*."
   ]
  },
  {
   "cell_type": "code",
   "execution_count": 56,
   "metadata": {
    "collapsed": true
   },
   "outputs": [],
   "source": [
    "surface = Generic(\"Compute the surface of a shape\")"
   ]
  },
  {
   "cell_type": "code",
   "execution_count": 57,
   "metadata": {
    "collapsed": false
   },
   "outputs": [
    {
     "name": "stdout",
     "output_type": "stream",
     "text": [
      "Signature is: (rect:__main__.Rectangle)\n",
      "Call arity = 1\n",
      "Parameter #1: rect\n",
      "   ==> annot: <class '__main__.Rectangle'>\n",
      "   ==> kind: POSITIONAL_OR_KEYWORD\n",
      "      ==> it's a class !\n"
     ]
    }
   ],
   "source": [
    "@method(surface)\n",
    "def surface_of_rectangle(rect : Rectangle):\n",
    "    return rect.w * rect.h"
   ]
  },
  {
   "cell_type": "code",
   "execution_count": 61,
   "metadata": {
    "collapsed": false
   },
   "outputs": [
    {
     "name": "stdout",
     "output_type": "stream",
     "text": [
      "Signature is: (circ:__main__.Circle)\n",
      "Call arity = 1\n",
      "Parameter #1: circ\n",
      "   ==> annot: <class '__main__.Circle'>\n",
      "   ==> kind: POSITIONAL_OR_KEYWORD\n",
      "      ==> it's a class !\n"
     ]
    },
    {
     "name": "stderr",
     "output_type": "stream",
     "text": [
      "../src/pylos.py:90: GenericWarning: Redefinition of generic call for signature: (circ:__main__.Circle)\n",
      "  warnings.warn(\"Redefinition of generic call for signature: {}\".format(sig), GenericWarning)\n"
     ]
    }
   ],
   "source": [
    "@method(surface)\n",
    "def surface_of_circle(circ : Circle):\n",
    "    return math.pi * circ.r * circ.r"
   ]
  },
  {
   "cell_type": "code",
   "execution_count": 62,
   "metadata": {
    "collapsed": false
   },
   "outputs": [
    {
     "data": {
      "text/plain": [
       "6"
      ]
     },
     "execution_count": 62,
     "metadata": {},
     "output_type": "execute_result"
    }
   ],
   "source": [
    "surface(rect)"
   ]
  },
  {
   "cell_type": "code",
   "execution_count": 63,
   "metadata": {
    "collapsed": false
   },
   "outputs": [
    {
     "data": {
      "text/plain": [
       "3.141592653589793"
      ]
     },
     "execution_count": 63,
     "metadata": {},
     "output_type": "execute_result"
    }
   ],
   "source": [
    "surface(circ)"
   ]
  },
  {
   "cell_type": "code",
   "execution_count": 64,
   "metadata": {
    "collapsed": false
   },
   "outputs": [
    {
     "ename": "GenericError",
     "evalue": "Cannot dispatch on argument: 12",
     "output_type": "error",
     "traceback": [
      "\u001b[1;31m---------------------------------------------------------------------------\u001b[0m",
      "\u001b[1;31mGenericError\u001b[0m                              Traceback (most recent call last)",
      "\u001b[1;32m<ipython-input-64-106689c86ede>\u001b[0m in \u001b[0;36m<module>\u001b[1;34m()\u001b[0m\n\u001b[1;32m----> 1\u001b[1;33m \u001b[0msurface\u001b[0m\u001b[1;33m(\u001b[0m\u001b[1;36m12\u001b[0m\u001b[1;33m)\u001b[0m\u001b[1;33m\u001b[0m\u001b[0m\n\u001b[0m",
      "\u001b[1;32m/home/pesch/Projets/pylos/src/pylos.py\u001b[0m in \u001b[0;36m__call__\u001b[1;34m(self, *args, **kwargs)\u001b[0m\n\u001b[0;32m    166\u001b[0m                 \u001b[0madispatch\u001b[0m \u001b[1;33m=\u001b[0m \u001b[0mndispatch\u001b[0m\u001b[1;33m\u001b[0m\u001b[0m\n\u001b[0;32m    167\u001b[0m             \u001b[1;32melse\u001b[0m\u001b[1;33m:\u001b[0m\u001b[1;33m\u001b[0m\u001b[0m\n\u001b[1;32m--> 168\u001b[1;33m                 \u001b[1;32mraise\u001b[0m \u001b[0mGenericError\u001b[0m\u001b[1;33m(\u001b[0m\u001b[1;34m\"Cannot dispatch on argument: {}\"\u001b[0m\u001b[1;33m.\u001b[0m\u001b[0mformat\u001b[0m\u001b[1;33m(\u001b[0m\u001b[0marg\u001b[0m\u001b[1;33m)\u001b[0m\u001b[1;33m)\u001b[0m\u001b[1;33m\u001b[0m\u001b[0m\n\u001b[0m\u001b[0;32m    169\u001b[0m \u001b[1;33m\u001b[0m\u001b[0m\n\u001b[0;32m    170\u001b[0m         \u001b[1;32mif\u001b[0m \u001b[0madispatch\u001b[0m\u001b[1;33m.\u001b[0m\u001b[0mdispatch_func\u001b[0m\u001b[1;33m:\u001b[0m\u001b[1;33m\u001b[0m\u001b[0m\n",
      "\u001b[1;31mGenericError\u001b[0m: Cannot dispatch on argument: 12"
     ]
    }
   ],
   "source": [
    "surface(12)"
   ]
  },
  {
   "cell_type": "code",
   "execution_count": null,
   "metadata": {
    "collapsed": true
   },
   "outputs": [],
   "source": []
  }
 ],
 "metadata": {
  "kernelspec": {
   "display_name": "Python 3",
   "language": "python",
   "name": "python3"
  },
  "language_info": {
   "codemirror_mode": {
    "name": "ipython",
    "version": 3
   },
   "file_extension": ".py",
   "mimetype": "text/x-python",
   "name": "python",
   "nbconvert_exporter": "python",
   "pygments_lexer": "ipython3",
   "version": "3.4.4rc1"
  }
 },
 "nbformat": 4,
 "nbformat_minor": 0
}
